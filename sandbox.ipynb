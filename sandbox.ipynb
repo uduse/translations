{
 "cells": [
  {
   "cell_type": "code",
   "execution_count": 328,
   "metadata": {
    "ExecuteTime": {
     "end_time": "2020-05-08T22:34:46.981957Z",
     "start_time": "2020-05-08T22:34:46.979266Z"
    }
   },
   "outputs": [],
   "source": [
    "import pysrt\n",
    "import subsync\n",
    "import random\n",
    "import re\n",
    "import argparse\n",
    "import editdistance\n",
    "import nltk\n",
    "from tqdm.notebook import tqdm\n",
    "import collections"
   ]
  },
  {
   "cell_type": "code",
   "execution_count": 294,
   "metadata": {
    "ExecuteTime": {
     "end_time": "2020-05-08T21:54:19.693281Z",
     "start_time": "2020-05-08T21:54:19.686181Z"
    }
   },
   "outputs": [],
   "source": [
    "class DualSubItem(object):\n",
    "    def __init__(self, en, cn, spec, en_size=None, cn_size=None, start=None, end=None):\n",
    "        self.en = en\n",
    "        self.cn = cn\n",
    "        self.spec = spec\n",
    "        self.start = start\n",
    "        self.end = end\n",
    "        self.en_size = en_size\n",
    "        self.cn_size = cn_size\n",
    "        \n",
    "    def to_srt_item(self, mode):\n",
    "        en, cn = self.en, self.cn\n",
    "        if self.en_size is not None:\n",
    "            en = f'<font size=\"{self.en_size}px\">{self.en}</font>'\n",
    "        if self.cn_size is not None:\n",
    "            cn = f'<font size=\"{self.cn_size}px\">{self.cn}</font>'\n",
    "            \n",
    "        if mode == \"both\":\n",
    "            text = cn + '\\n' + en\n",
    "        elif mode == \"cn\":\n",
    "            text = cn\n",
    "        elif mode == \"en\":\n",
    "            text = en\n",
    "            \n",
    "        if self.spec == \"hang\":\n",
    "            text = r\"{\\an8}\" + text\n",
    "            \n",
    "        return pysrt.SubRipItem(start=self.start, end=self.end, text=text)"
   ]
  },
  {
   "cell_type": "code",
   "execution_count": 295,
   "metadata": {
    "ExecuteTime": {
     "end_time": "2020-05-08T21:54:19.860319Z",
     "start_time": "2020-05-08T21:54:19.847497Z"
    }
   },
   "outputs": [],
   "source": [
    "class DualSub(object):\n",
    "    def __init__(self, items=None):\n",
    "        self.items = items or []\n",
    "        \n",
    "    def load_items(self, fname):\n",
    "        group_delim = re.compile('\\n\\n')\n",
    "        with open(fname) as f:\n",
    "            groups = group_delim.split(f.read())\n",
    "            for group in groups:\n",
    "                group = group.splitlines()\n",
    "                if group[0] == \"@@\":\n",
    "                    spec = 'hang'\n",
    "                    group = group[1:]\n",
    "                else:\n",
    "                    spec = None\n",
    "                en, cn = group\n",
    "                item = DualSubItem(en, cn, spec)\n",
    "                self.items.append(item)\n",
    "    \n",
    "    def generate_times(self, duration):\n",
    "        total_len = sum(map(len, [item.en for item in self.items]))\n",
    "        start = 0\n",
    "        for i, item in enumerate(self.items):\n",
    "            if item.spec == 'hang':\n",
    "                item.start = self.items[i - 1].start\n",
    "                item.end = self.items[i - 1].end\n",
    "            else:\n",
    "                end = int(start + duration * (len(item.en) / total_len))\n",
    "                item.start = start\n",
    "                item.end = end\n",
    "                start = end\n",
    "    \n",
    "    def set_size(self, mode, size):\n",
    "        for item in self.items:\n",
    "            if mode == \"en\":\n",
    "                item.en_size = size\n",
    "            elif mode == \"cn\":\n",
    "                item.cn_size = size\n",
    "            else:\n",
    "                raise ValueError\n",
    "                \n",
    "    def to_srt(self, mode, ignore_spec=False):\n",
    "        out = pysrt.SubRipFile()\n",
    "        for item in self.items:\n",
    "            if ignore_spec and item.spec:\n",
    "                continue\n",
    "            out.append(item.to_srt_item(mode=mode))\n",
    "        out.clean_indexes()\n",
    "        return out"
   ]
  },
  {
   "cell_type": "code",
   "execution_count": 220,
   "metadata": {
    "ExecuteTime": {
     "end_time": "2020-05-08T19:53:46.414058Z",
     "start_time": "2020-05-08T19:53:46.371657Z"
    }
   },
   "outputs": [],
   "source": [
    "script = pysrt.open(\"jp_clean_up_your_room/youtube_script.srt\")\n",
    "empty_items = [item for item in script if not item.text]\n",
    "for item in empty_items:\n",
    "    script.remove(item)\n",
    "\n",
    "for lhs, rhs in zip(script[:-1], script[1:]):\n",
    "    lhs.end = rhs.start\n",
    "# for item in script:\n",
    "#     item.\n",
    "script.save(\"jp_clean_up_your_room/youtub_script_norm.srt\")\n"
   ]
  },
  {
   "cell_type": "code",
   "execution_count": 236,
   "metadata": {
    "ExecuteTime": {
     "end_time": "2020-05-08T20:22:48.833715Z",
     "start_time": "2020-05-08T20:22:48.830227Z"
    }
   },
   "outputs": [
    {
     "data": {
      "text/plain": [
       "<__main__.DualSub at 0x12969f780>"
      ]
     },
     "execution_count": 236,
     "metadata": {},
     "output_type": "execute_result"
    }
   ],
   "source": []
  },
  {
   "cell_type": "code",
   "execution_count": 306,
   "metadata": {
    "ExecuteTime": {
     "end_time": "2020-05-08T22:14:39.532003Z",
     "start_time": "2020-05-08T22:14:39.513824Z"
    }
   },
   "outputs": [],
   "source": [
    "sub_tokens = []\n",
    "sub_token_idx_to_sub_item = {}\n",
    "num_tokens = 0\n",
    "for i, item in enumerate(sub.items):\n",
    "    text = item.en.lower()\n",
    "    tokens = nltk.word_tokenize(text)\n",
    "    item.tokens = tokens\n",
    "    item.token_ids = [num_tokens + t for t in range(len(tokens))]\n",
    "    num_tokens += len(tokens)\n",
    "    for token_id, token in zip(item.token_ids, item.tokens):\n",
    "        sub_token_idx_to_sub_item[token_id] = item\n",
    "        sub_tokens += [token]"
   ]
  },
  {
   "cell_type": "code",
   "execution_count": 312,
   "metadata": {
    "ExecuteTime": {
     "end_time": "2020-05-08T22:22:17.319441Z",
     "start_time": "2020-05-08T22:22:17.316491Z"
    }
   },
   "outputs": [],
   "source": [
    "script_lines = []\n",
    "# script_token_idx_to_script_item = {}\n",
    "for i, item in enumerate(script):\n",
    "    script_lines.append(item.text.lower())\n",
    "#     tokens = nltk.word_tokenize(item.text.lower())\n",
    "#     for token in tokens:\n",
    "#         script_token_idx_to_script_item[len(script_token_idx_to_script_item)] = item\n",
    "#         script_tokens.append(token)"
   ]
  },
  {
   "cell_type": "code",
   "execution_count": 384,
   "metadata": {
    "ExecuteTime": {
     "end_time": "2020-05-08T23:01:19.445401Z",
     "start_time": "2020-05-08T22:54:06.294270Z"
    },
    "scrolled": false
   },
   "outputs": [
    {
     "data": {
      "application/vnd.jupyter.widget-view+json": {
       "model_id": "0c4fdf47f61743ffb1d020fc826ed7e7",
       "version_major": 2,
       "version_minor": 0
      },
      "text/plain": [
       "HBox(children=(FloatProgress(value=0.0, max=153.0), HTML(value='')))"
      ]
     },
     "metadata": {},
     "output_type": "display_data"
    },
    {
     "name": "stdout",
     "output_type": "stream",
     "text": [
      "\n"
     ]
    }
   ],
   "source": [
    "limit = None\n",
    "# limit = None\n",
    "mono_increase_lim = 30\n",
    "matching_sub_indices = [0]\n",
    "\n",
    "for script_idx in tqdm(range(1, len(script_lines[:limit]))):\n",
    "    lhs = ' '.join(line for line in script_lines[:script_idx])\n",
    "    rhs = ' '.join(line for line in script_lines[script_idx:])\n",
    "    \n",
    "    mono = 0\n",
    "    curr_min = float('inf')\n",
    "    curr_min_i = None\n",
    "    \n",
    "    for sub_index in range(matching_sub_indices[-1], len(sub_tokens)):\n",
    "        if mono > mono_increase_lim:\n",
    "            mono = 0\n",
    "            break\n",
    "        sub_lhs = ' '.join(sub_tokens[:sub_index])\n",
    "        sub_rhs = ' '.join(sub_tokens[sub_index:])\n",
    "        lhs_dist = editdistance.eval(lhs, sub_lhs)\n",
    "        rhs_dist = editdistance.eval(rhs, sub_rhs)\n",
    "        sum_dist = lhs_dist + rhs_dist\n",
    "        if sum_dist < curr_min:\n",
    "            curr_min = sum_dist\n",
    "            curr_min_i = sub_index\n",
    "            mono = 0\n",
    "        else:\n",
    "            mono += 1\n",
    "    \n",
    "    matching_sub_indices.append(curr_min_i)\n",
    "    \n",
    "#         print(lhs, rhs, sec_lhs, sec_rhs)\n",
    "#     break"
   ]
  },
  {
   "cell_type": "code",
   "execution_count": 388,
   "metadata": {
    "ExecuteTime": {
     "end_time": "2020-05-08T23:01:23.415506Z",
     "start_time": "2020-05-08T23:01:23.403466Z"
    }
   },
   "outputs": [],
   "source": [
    "for item in sub.items:\n",
    "    item.start, item.end = 0, 0\n",
    "    \n",
    "for line_idx, lower, upper in zip(range(len(script_lines)),\n",
    "                                  matching_sub_indices[:-1], matching_sub_indices[1:]):\n",
    "    script_item = script[line_idx]\n",
    "    total_duration = script_item.duration.ordinal\n",
    "#     print('total:', total_duration)\n",
    "    counter = collections.Counter()\n",
    "    for sub_token_idx in range(lower, upper):\n",
    "        counter.update([sub_token_idx_to_sub_item[sub_token_idx]])\n",
    "    total_weight = sum(counter.values())\n",
    "    duration_used = 0\n",
    "    for sub_item in counter:\n",
    "        weight = counter[sub_item] / total_weight\n",
    "        time_fract = int(total_duration * weight)\n",
    "        if not sub_item.start:\n",
    "            sub_item.start = script_item.start.ordinal + duration_used\n",
    "            sub_item.end = sub_item.start\n",
    "        sub_item.end += time_fract\n",
    "        duration_used += time_fract"
   ]
  },
  {
   "cell_type": "code",
   "execution_count": 389,
   "metadata": {
    "ExecuteTime": {
     "end_time": "2020-05-08T23:01:24.541475Z",
     "start_time": "2020-05-08T23:01:24.531665Z"
    }
   },
   "outputs": [
    {
     "name": "stdout",
     "output_type": "stream",
     "text": [
      "I've been telling people online in various ways, and in lectures,\n",
      "1.199 5.603\n",
      "\n",
      "that they should start fixing up the world by cleaning up their room.\n",
      "5.603 8.899\n",
      "\n",
      "And I wanted to just elaborate on that a little bit before I get back to the lecture itself.\n",
      "8.9 14.263\n",
      "\n",
      "So as it becomes this weird internet meme you know.\n",
      "14.263 20.697\n",
      "\n",
      "And it's a joke. And good, it's a joke.\n",
      "20.698 24.602\n",
      "\n",
      "I'm really happy about the fact that, so much of this has got like the leaven of humor in it and it's really important.\n",
      "24.603 30.033\n",
      "\n",
      "Because that's what stops things from degenerating into conflict is humor.\n",
      "30.034 33.998\n",
      "\n",
      "And let's say you want to sort out your room and beautify it, because the beauty is also important.\n",
      "33.999 39.478\n",
      "\n",
      "And let's say that all you have is just a little room.\n",
      "39.479 41.48\n",
      "\n",
      "Like, you're not rich. You're poor.\n",
      "41.481 43.398\n",
      "\n",
      "And you don't have any power, that's another thing.\n",
      "43.399 45.6\n",
      "\n",
      "But you've got your damn room.\n",
      "45.601 46.879\n",
      "\n",
      "And you've got this space right in front of you.\n",
      "46.88 49.125\n",
      "\n",
      "You know, that that's a part of the cosmos that you can come to grips with.\n",
      "49.125 53.405\n",
      "\n",
      "Then you might think, what's there in front of you? Right in front of you?\n",
      "53.406 56.754\n",
      "\n",
      "And the answer to that is it depends on how open your eyes are. That's the proper answer.\n",
      "56.755 61.086\n",
      "\n",
      "Because you could say ...\n",
      "61.086 62.529\n",
      "\n",
      "William Blake* said this for example, and Aldous Huxley made comments that were very similar.\n",
      "62.53 66.38\n",
      "\n",
      "<i>To see a World in a Grain of Sand, And a Heaven in a Wild Flower.<i>  -- William Blake\n",
      "66.38 67.595\n",
      "\n",
      "That in a transcendent state, you can see infinity in the finite.\n",
      "67.595 70.859\n",
      "\n",
      "And you might say, well you can say, if you can see infinity in what you have within your grasp.\n",
      "70.86 75.803\n",
      "\n",
      "If you look and you could say maybe that's the case with your room.\n",
      "75.803 79.059\n",
      "\n",
      "So, you want to clean up your room.\n",
      "79.06 81.35\n",
      "\n",
      "Well, okay, how do you do that exactly?\n",
      "81.35 84.388\n",
      "\n",
      "Well, a room is a place to sleep.\n",
      "84.389 86.936\n",
      "\n",
      "And so if you set your room up properly,\n",
      "86.937 89.741\n",
      "\n",
      "then you figure out how to sleep, and when you should sleep, and how you should sleep.\n",
      "89.742 93.081\n",
      "\n",
      "And then, you figure out when you should wake up.\n",
      "93.082 94.954\n",
      "\n",
      "And then, you figure out what clothes you should wear,\n",
      "94.954 97.106\n",
      "\n",
      "because they have to be arranged properly in your dresser.\n",
      "97.106 98.825\n",
      "\n",
      "And then, you have to have some place to put your cloth on.\n",
      "98.826 100.907\n",
      "\n",
      "And if you're gonna have some clothes, then you have to figure out what you're gonna wear those clothes to do.\n",
      "100.908 104.375\n",
      "\n",
      "Right? And then that means you have to figure out what you're going to do.\n",
      "104.376 107.571\n",
      "\n",
      "And then, your room has to serve that purpose.\n",
      "107.571 110.007\n",
      "\n",
      "Because otherwise it isn't set up properly. And if it doesn't set up ... if it doesn't serve your purposes,\n",
      "110.008 115.678\n",
      "\n",
      "you will be unhappy, and not happy in the room.\n",
      "115.679 118.715\n",
      "\n",
      "Because the way that we perceive the world is as a place to move from point A to point B in.\n",
      "118.716 125.383\n",
      "\n",
      "And then, if the place that we're in facilitates that movement then we're happy to be there.\n",
      "125.384 130.784\n",
      "\n",
      "And if the place that we're in serves as an obstacle to that movement then we're unhappy to be there.\n",
      "130.785 136.306\n",
      "\n",
      "And, so, what it means to set up your room is that you have to have somewhere to go that's worthwhile,\n",
      "136.307 141.169\n",
      "\n",
      "or you can't set up your room.\n",
      "141.17 142.871\n",
      "\n",
      "And then, your room has to be set up to facilitate that.\n",
      "142.871 145.609\n",
      "\n",
      "And then, the next thing is, well, maybe you have to make it beautiful, but that's not easy, right?\n",
      "145.61 150.554\n",
      "\n",
      "That means you have to have some taste.\n",
      "150.554 151.903\n",
      "\n",
      "And that doesn't mean you have to have money. It doesn't.\n",
      "151.904 154.89\n",
      "\n",
      "Because you can be garish with money, and you can be tasteful with nothing.\n",
      "154.89 159.304\n",
      "\n",
      "All you need is taste, and taste beats money when it comes to beautifying things, you know.\n",
      "159.305 163.826\n",
      "\n",
      "I mean, not that money is trivial, because it's not, but taste is crucial.\n",
      "163.826 167.705\n",
      "\n",
      "And people who are very artistically oriented can make beautiful things out of virtually nothing.\n",
      "167.706 172.595\n",
      "\n",
      "And not only that.\n",
      "172.596 173.762\n",
      "\n",
      "The literature suggests that if you're going to make beautiful things,\n",
      "173.762 176.832\n",
      "\n",
      "putting real constraints on what you allow yourself to do facilitates creativity instead of interfering with it.\n",
      "176.834 183.555\n",
      "\n",
      "Because, let's say you have to make something out of nothing, right?\n",
      "183.555 186.768\n",
      "\n",
      "Which I suppose would be a godly act, right?\n",
      "186.769 189.093\n",
      "\n",
      "If you have to make something out of nothing, you have to be creative in order to do that.\n",
      "189.094 193.306\n",
      "\n",
      "And, so, then, it is, to beautify your room means that you also have to develop your capacity to be creative.\n",
      "193.307 199.179\n",
      "\n",
      "And, so, then you can make your room shine.\n",
      "199.18 202.67\n",
      "\n",
      "But then what will happen is that,\n",
      "202.67 205.306\n",
      "\n",
      "if your family isn't together they will interfere with that.\n",
      "205.306 207.981\n",
      "\n",
      "You'll interfere with that because you won't have the discipline to do it properly.\n",
      "207.982 211.557\n",
      "\n",
      "But then when you start building this little microcosm of perfection with what you have at hand,\n",
      "211.558 218.165\n",
      "\n",
      "then it'll evoke all the pathologies of everyone in your household.\n",
      "218.166 221.513\n",
      "\n",
      "They'll wonder what the hell you're up to in there.\n",
      "221.514 223.489\n",
      "\n",
      "And they won't necessarily be happy.\n",
      "223.49 224.999\n",
      "\n",
      "Because, if you're ... if they're in a lowly place, let's say, and so are you.\n",
      "224.999 229.269\n",
      "\n",
      "And you're trying to move out of that.\n",
      "229.27 230.94\n",
      "\n",
      "Then, the higher you move out of that, the more the place they're in looks bad.\n",
      "230.941 235.507\n",
      "\n",
      "And you might say, well, what they should do is celebrate your victory over chaos and evil.\n",
      "235.508 240.053\n",
      "\n",
      "But that isn't what will happen.\n",
      "240.053 241.38\n",
      "\n",
      "What will happen instead is that they will attempt to pull you back down. They'll attempt to. \n",
      "241.381 245.751\n",
      "\n",
      "And I mean, obviously, [not all families do that], but all families do that to some degree.\n",
      "245.752 251.351\n",
      "\n",
      "And some families do almost nothing but that.\n",
      "251.352 254.058\n",
      "\n",
      "And so what that means is that, if you're going to organize your room,\n",
      "254.059 258.04\n",
      "\n",
      "then you're going to have to confront the devils in your house.\n",
      "258.04 261.735\n",
      "\n",
      "And that's often a terrifying thing\n",
      "261.735 263.77\n",
      "\n",
      "because some of those devils have have lineages that go back many many many generations.\n",
      "263.771 269.089\n",
      "\n",
      "And god only knows what you will have to struggle with in order to overcome that.\n",
      "269.09 272.782\n",
      "\n",
      "And so, and then, and so, to sort yourself out and to fix up your room is a non-trivial matter, you know.\n",
      "272.782 280.31\n",
      "\n",
      "And, you can do that, you'll learn by doing that.\n",
      "280.311 283.713\n",
      "\n",
      "And then, maybe you'll learn enough by doing that, so that you can fix up your family a little bit.\n",
      "283.714 287.572\n",
      "\n",
      "And then, having done that, you'll have enough character.\n",
      "287.573 290.074\n",
      "\n",
      "So that when you try to operate in the world, at your job, or maybe in the broader social spheres,\n",
      "290.075 295.696\n",
      "\n",
      "that you'll be a force for good instead of harm.\n",
      "295.696 297.926\n",
      "\n",
      "Because you'll have learned some humility by noting just how difficult it was to put your damn room together.\n",
      "297.927 303.925\n",
      "\n",
      "Well, and yourself, for that matter.\n",
      "303.926 305.581\n",
      "\n",
      "And so, you'll proceed cautiously with your eyes open towards the good.\n",
      "305.582 311.22\n",
      "\n"
     ]
    }
   ],
   "source": [
    "for item in sub.items:\n",
    "    print(item.en)\n",
    "    print(item.start / 1000, item.end / 1000)\n",
    "    print()"
   ]
  },
  {
   "cell_type": "code",
   "execution_count": 390,
   "metadata": {
    "ExecuteTime": {
     "end_time": "2020-05-08T23:01:37.228933Z",
     "start_time": "2020-05-08T23:01:37.223143Z"
    }
   },
   "outputs": [],
   "source": [
    "sub.to_srt(mode='both', ignore_spec=False).save('jp_clean_up_your_room/ref_synced.srt')"
   ]
  },
  {
   "cell_type": "code",
   "execution_count": 213,
   "metadata": {
    "ExecuteTime": {
     "end_time": "2020-05-08T19:39:55.126355Z",
     "start_time": "2020-05-08T19:39:55.116647Z"
    }
   },
   "outputs": [],
   "source": [
    "sub = DualSub()\n",
    "sub.load_items(\"jp_clean_up_your_room/subtitle.txt\")\n",
    "sub.set_size(mode=\"cn\", size=16)\n",
    "sub.set_size(mode=\"en\", size=9)\n",
    "sub.sync_with(mode=\"en\", \"jp_clean_up_your_room/youtube_script.srt\")\n",
    "# sub.generate_times(324800)\n",
    "sub.to_srt(mode='both', ignore_spec=False).save('jp_clean_up_your_room/subtitle.srt')\n",
    "sub.to_srt(mode='en', ignore_spec=True).save('jp_clean_up_your_room/en.srt')"
   ]
  }
 ],
 "metadata": {
  "hide_input": false,
  "kernelspec": {
   "display_name": "translations",
   "language": "python",
   "name": "translations"
  },
  "language_info": {
   "codemirror_mode": {
    "name": "ipython",
    "version": 3
   },
   "file_extension": ".py",
   "mimetype": "text/x-python",
   "name": "python",
   "nbconvert_exporter": "python",
   "pygments_lexer": "ipython3",
   "version": "3.6.9"
  },
  "toc": {
   "base_numbering": 1,
   "nav_menu": {},
   "number_sections": true,
   "sideBar": true,
   "skip_h1_title": false,
   "title_cell": "Table of Contents",
   "title_sidebar": "Contents",
   "toc_cell": false,
   "toc_position": {},
   "toc_section_display": true,
   "toc_window_display": false
  }
 },
 "nbformat": 4,
 "nbformat_minor": 2
}
